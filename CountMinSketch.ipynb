{
  "nbformat": 4,
  "nbformat_minor": 0,
  "metadata": {
    "colab": {
      "name": "Untitled0.ipynb",
      "provenance": []
    },
    "kernelspec": {
      "name": "python3",
      "display_name": "Python 3"
    }
  },
  "cells": [
    {
      "cell_type": "code",
      "metadata": {
        "id": "Ndb0RhXim4Tq",
        "colab_type": "code",
        "colab": {
          "base_uri": "https://localhost:8080/",
          "height": 170
        },
        "outputId": "1c8283cd-0f53-443d-d8cf-c11336a543a7"
      },
      "source": [
        "!pip install mmh3"
      ],
      "execution_count": 6,
      "outputs": [
        {
          "output_type": "stream",
          "text": [
            "Collecting mmh3\n",
            "  Downloading https://files.pythonhosted.org/packages/fa/7e/3ddcab0a9fcea034212c02eb411433db9330e34d626360b97333368b4052/mmh3-2.5.1.tar.gz\n",
            "Building wheels for collected packages: mmh3\n",
            "  Building wheel for mmh3 (setup.py) ... \u001b[?25l\u001b[?25hdone\n",
            "  Created wheel for mmh3: filename=mmh3-2.5.1-cp36-cp36m-linux_x86_64.whl size=37870 sha256=af2aa3cafc8e3a69f18a3b65a55d00d590494474ede1de64372cf9b13d92560f\n",
            "  Stored in directory: /root/.cache/pip/wheels/38/b4/ea/6e4e321c625d3320c0c496bf4088371546d8fce5f1dd71b219\n",
            "Successfully built mmh3\n",
            "Installing collected packages: mmh3\n",
            "Successfully installed mmh3-2.5.1\n"
          ],
          "name": "stdout"
        }
      ]
    },
    {
      "cell_type": "code",
      "metadata": {
        "id": "PVcN6UFCoMkq",
        "colab_type": "code",
        "colab": {}
      },
      "source": [
        "import numpy as np\n",
        "import pandas as pd\n",
        "import mmh3"
      ],
      "execution_count": 0,
      "outputs": []
    },
    {
      "cell_type": "markdown",
      "metadata": {
        "id": "EEwT4OzdrEHi",
        "colab_type": "text"
      },
      "source": [
        "Initialize width of table:\n",
        "\n",
        "\n"
      ]
    },
    {
      "cell_type": "code",
      "metadata": {
        "id": "HaYeE_LioTDi",
        "colab_type": "code",
        "colab": {
          "base_uri": "https://localhost:8080/",
          "height": 34
        },
        "outputId": "8364a1eb-e3be-4123-bfeb-cdf0677f2c92"
      },
      "source": [
        "width = int(input(\"Enter width of table:\" ))"
      ],
      "execution_count": 22,
      "outputs": [
        {
          "output_type": "stream",
          "text": [
            "Enter width of table:3\n"
          ],
          "name": "stdout"
        }
      ]
    },
    {
      "cell_type": "markdown",
      "metadata": {
        "id": "qkSXGnNisFec",
        "colab_type": "text"
      },
      "source": [
        "Initialize hash functions:\n"
      ]
    },
    {
      "cell_type": "code",
      "metadata": {
        "id": "89tNfPmlsTWy",
        "colab_type": "code",
        "colab": {
          "base_uri": "https://localhost:8080/",
          "height": 34
        },
        "outputId": "e66da868-7c24-4dbc-f74b-5e504b15314f"
      },
      "source": [
        "nhash = int(input(\"Enter number of hash functions < 10000: \"))\n",
        "hash_seeds = np.random.randint(1, 1000, int(nhash))"
      ],
      "execution_count": 23,
      "outputs": [
        {
          "output_type": "stream",
          "text": [
            "Enter number of hash functions < 10000: 3\n"
          ],
          "name": "stdout"
        }
      ]
    },
    {
      "cell_type": "markdown",
      "metadata": {
        "id": "u4Tf8LI7s6Qy",
        "colab_type": "text"
      },
      "source": [
        "Input stream: "
      ]
    },
    {
      "cell_type": "code",
      "metadata": {
        "id": "v5RfZi0GtAza",
        "colab_type": "code",
        "colab": {
          "base_uri": "https://localhost:8080/",
          "height": 51
        },
        "outputId": "1cad685e-8935-41ae-d7d6-472727423656"
      },
      "source": [
        "stream = input(\"Gime stream u want to test \")\n",
        "unique_items = len(set(stream))\n",
        "unique_items"
      ],
      "execution_count": 24,
      "outputs": [
        {
          "output_type": "stream",
          "text": [
            "Gime stream u want to test aaacdcdacd\n"
          ],
          "name": "stdout"
        },
        {
          "output_type": "execute_result",
          "data": {
            "text/plain": [
              "3"
            ]
          },
          "metadata": {
            "tags": []
          },
          "execution_count": 24
        }
      ]
    },
    {
      "cell_type": "markdown",
      "metadata": {
        "id": "8099hUxetW7a",
        "colab_type": "text"
      },
      "source": [
        "Character to test: "
      ]
    },
    {
      "cell_type": "code",
      "metadata": {
        "id": "HWrOGUA7taWi",
        "colab_type": "code",
        "colab": {
          "base_uri": "https://localhost:8080/",
          "height": 34
        },
        "outputId": "b2e0cc0c-4e70-4191-ad49-066375d7c50f"
      },
      "source": [
        "character = input(\"Gime character u want to test:  \")"
      ],
      "execution_count": 25,
      "outputs": [
        {
          "output_type": "stream",
          "text": [
            "Gime character u want to test a\n"
          ],
          "name": "stdout"
        }
      ]
    },
    {
      "cell_type": "markdown",
      "metadata": {
        "id": "UQHmyQX_tfoT",
        "colab_type": "text"
      },
      "source": [
        "Actual algorithm starts here"
      ]
    },
    {
      "cell_type": "code",
      "metadata": {
        "id": "4wJ2ymKnt9Mq",
        "colab_type": "code",
        "colab": {
          "base_uri": "https://localhost:8080/",
          "height": 85
        },
        "outputId": "9c2c3f0a-0326-45a9-afc9-7063a922835b"
      },
      "source": [
        "table = pd.DataFrame(np.zeros((nhash, width)))\n",
        "  \n",
        "\n",
        "for ch in stream:\n",
        "  for h in range(nhash):\n",
        "    temp = mmh3.hash(ch,hash_seeds[h]) % width\n",
        "    table.loc[h,temp] += + 1 \n",
        "    \n",
        "print(table)"
      ],
      "execution_count": 28,
      "outputs": [
        {
          "output_type": "stream",
          "text": [
            "     0    1    2\n",
            "0  3.0  3.0  4.0\n",
            "1  3.0  0.0  7.0\n",
            "2  4.0  3.0  3.0\n"
          ],
          "name": "stdout"
        }
      ]
    },
    {
      "cell_type": "markdown",
      "metadata": {
        "id": "WPon3iHw1e6Z",
        "colab_type": "text"
      },
      "source": [
        "Now for selected character we can return its frequency\n"
      ]
    },
    {
      "cell_type": "code",
      "metadata": {
        "id": "hLIbIpxPte6q",
        "colab_type": "code",
        "colab": {
          "base_uri": "https://localhost:8080/",
          "height": 34
        },
        "outputId": "c382745a-7286-4767-954e-6ab9689c8940"
      },
      "source": [
        "freq = 1000\n",
        "for h in range(nhash):\n",
        "  freq = min(   table.loc[h,mmh3.hash(character,hash_seeds[h])%width] , freq ) \n",
        "  \n",
        "print(freq)"
      ],
      "execution_count": 29,
      "outputs": [
        {
          "output_type": "stream",
          "text": [
            "4.0\n"
          ],
          "name": "stdout"
        }
      ]
    }
  ]
}