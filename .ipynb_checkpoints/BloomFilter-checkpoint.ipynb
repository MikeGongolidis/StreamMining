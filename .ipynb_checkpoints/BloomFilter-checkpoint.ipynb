{
 "cells": [
  {
   "cell_type": "markdown",
   "metadata": {
    "colab_type": "text",
    "id": "qUVv7silZVa1"
   },
   "source": [
    "# Bloom Filter\n",
    "\n",
    "Its a Bit Vector with *m* bits, *k* hash functions and *n* elements expected to be inserted in the filter.\n",
    "\n",
    "### What can it do? \n",
    "\n",
    "It can tell us whether an element **is not** in the specific set or it **may be** in the set. \n",
    "\n",
    "### How to build it?\n",
    "\n",
    "Variables to decide the filter : *m,k,n* \n",
    "\n",
    "With larger *m* we achieve less false positive rate but commit to use more memory.\n",
    "\n",
    "With larger *k* we achieve less false positive rate but the filter gets slower.\n",
    "\n",
    "Given *n* and *m* we can calculate the optimal value for *k* by : *(m/n)ln2*\n",
    "\n",
    "### Algorithm\n",
    "\n",
    "The user can create a set of strings and test if a new string is in the set.\n",
    "\n",
    "*Input* : Set of strings, a new string.\n",
    "\n",
    "*Output* : If the string is not, or may be in the set.\n",
    "\n",
    "\n",
    "\n"
   ]
  },
  {
   "cell_type": "markdown",
   "metadata": {
    "colab_type": "text",
    "id": "BeKoeMVOekJm"
   },
   "source": [
    "### Libraries"
   ]
  },
  {
   "cell_type": "code",
   "execution_count": 1,
   "metadata": {
    "colab": {
     "base_uri": "https://localhost:8080/",
     "height": 51
    },
    "colab_type": "code",
    "id": "zSXh6Eu4e3tT",
    "outputId": "44b5b727-a803-4c6f-b02c-bd395f56ad3f"
   },
   "outputs": [
    {
     "name": "stdout",
     "output_type": "stream",
     "text": [
      "Collecting mmh3\n",
      "  Using cached https://files.pythonhosted.org/packages/fa/7e/3ddcab0a9fcea034212c02eb411433db9330e34d626360b97333368b4052/mmh3-2.5.1.tar.gz\n",
      "Building wheels for collected packages: mmh3\n",
      "  Building wheel for mmh3 (setup.py): started\n",
      "  Building wheel for mmh3 (setup.py): finished with status 'error'\n",
      "  Running setup.py clean for mmh3\n",
      "Failed to build mmh3\n",
      "Installing collected packages: mmh3\n",
      "  Running setup.py install for mmh3: started\n",
      "    Running setup.py install for mmh3: finished with status 'error'\n"
     ]
    },
    {
     "name": "stderr",
     "output_type": "stream",
     "text": [
      "  ERROR: Command errored out with exit status 1:\n",
      "   command: 'C:\\Users\\Mike\\Anaconda3\\envs\\budapest\\python.exe' -u -c 'import sys, setuptools, tokenize; sys.argv[0] = '\"'\"'C:\\\\Users\\\\Mike\\\\AppData\\\\Local\\\\Temp\\\\pip-install-3hfzshn5\\\\mmh3\\\\setup.py'\"'\"'; __file__='\"'\"'C:\\\\Users\\\\Mike\\\\AppData\\\\Local\\\\Temp\\\\pip-install-3hfzshn5\\\\mmh3\\\\setup.py'\"'\"';f=getattr(tokenize, '\"'\"'open'\"'\"', open)(__file__);code=f.read().replace('\"'\"'\\r\\n'\"'\"', '\"'\"'\\n'\"'\"');f.close();exec(compile(code, __file__, '\"'\"'exec'\"'\"'))' bdist_wheel -d 'C:\\Users\\Mike\\AppData\\Local\\Temp\\pip-wheel-d8mnueic' --python-tag cp37\n",
      "       cwd: C:\\Users\\Mike\\AppData\\Local\\Temp\\pip-install-3hfzshn5\\mmh3\\\n",
      "  Complete output (5 lines):\n",
      "  running bdist_wheel\n",
      "  running build\n",
      "  running build_ext\n",
      "  building 'mmh3' extension\n",
      "  error: Microsoft Visual C++ 14.0 is required. Get it with \"Microsoft Visual C++ Build Tools\": https://visualstudio.microsoft.com/downloads/\n",
      "  ----------------------------------------\n",
      "  ERROR: Failed building wheel for mmh3\n",
      "    ERROR: Command errored out with exit status 1:\n",
      "     command: 'C:\\Users\\Mike\\Anaconda3\\envs\\budapest\\python.exe' -u -c 'import sys, setuptools, tokenize; sys.argv[0] = '\"'\"'C:\\\\Users\\\\Mike\\\\AppData\\\\Local\\\\Temp\\\\pip-install-3hfzshn5\\\\mmh3\\\\setup.py'\"'\"'; __file__='\"'\"'C:\\\\Users\\\\Mike\\\\AppData\\\\Local\\\\Temp\\\\pip-install-3hfzshn5\\\\mmh3\\\\setup.py'\"'\"';f=getattr(tokenize, '\"'\"'open'\"'\"', open)(__file__);code=f.read().replace('\"'\"'\\r\\n'\"'\"', '\"'\"'\\n'\"'\"');f.close();exec(compile(code, __file__, '\"'\"'exec'\"'\"'))' install --record 'C:\\Users\\Mike\\AppData\\Local\\Temp\\pip-record-vp6ip6au\\install-record.txt' --single-version-externally-managed --compile\n",
      "         cwd: C:\\Users\\Mike\\AppData\\Local\\Temp\\pip-install-3hfzshn5\\mmh3\\\n",
      "    Complete output (5 lines):\n",
      "    running install\n",
      "    running build\n",
      "    running build_ext\n",
      "    building 'mmh3' extension\n",
      "    error: Microsoft Visual C++ 14.0 is required. Get it with \"Microsoft Visual C++ Build Tools\": https://visualstudio.microsoft.com/downloads/\n",
      "    ----------------------------------------\n",
      "ERROR: Command errored out with exit status 1: 'C:\\Users\\Mike\\Anaconda3\\envs\\budapest\\python.exe' -u -c 'import sys, setuptools, tokenize; sys.argv[0] = '\"'\"'C:\\\\Users\\\\Mike\\\\AppData\\\\Local\\\\Temp\\\\pip-install-3hfzshn5\\\\mmh3\\\\setup.py'\"'\"'; __file__='\"'\"'C:\\\\Users\\\\Mike\\\\AppData\\\\Local\\\\Temp\\\\pip-install-3hfzshn5\\\\mmh3\\\\setup.py'\"'\"';f=getattr(tokenize, '\"'\"'open'\"'\"', open)(__file__);code=f.read().replace('\"'\"'\\r\\n'\"'\"', '\"'\"'\\n'\"'\"');f.close();exec(compile(code, __file__, '\"'\"'exec'\"'\"'))' install --record 'C:\\Users\\Mike\\AppData\\Local\\Temp\\pip-record-vp6ip6au\\install-record.txt' --single-version-externally-managed --compile Check the logs for full command output.\n"
     ]
    },
    {
     "name": "stdout",
     "output_type": "stream",
     "text": [
      "Collecting bitarray\n",
      "  Downloading https://files.pythonhosted.org/packages/c7/2a/35d3bd5bffa9e179267318057a12adc41f837310edf043d8e6d939719f95/bitarray-1.0.1.tar.gz\n",
      "Building wheels for collected packages: bitarray\n",
      "  Building wheel for bitarray (setup.py): started\n",
      "  Building wheel for bitarray (setup.py): finished with status 'error'\n",
      "  Running setup.py clean for bitarray\n",
      "Failed to build bitarray\n",
      "Installing collected packages: bitarray\n",
      "  Running setup.py install for bitarray: started\n",
      "    Running setup.py install for bitarray: finished with status 'error'\n"
     ]
    },
    {
     "name": "stderr",
     "output_type": "stream",
     "text": [
      "  ERROR: Command errored out with exit status 1:\n",
      "   command: 'C:\\Users\\Mike\\Anaconda3\\envs\\budapest\\python.exe' -u -c 'import sys, setuptools, tokenize; sys.argv[0] = '\"'\"'C:\\\\Users\\\\Mike\\\\AppData\\\\Local\\\\Temp\\\\pip-install-qltpo_t0\\\\bitarray\\\\setup.py'\"'\"'; __file__='\"'\"'C:\\\\Users\\\\Mike\\\\AppData\\\\Local\\\\Temp\\\\pip-install-qltpo_t0\\\\bitarray\\\\setup.py'\"'\"';f=getattr(tokenize, '\"'\"'open'\"'\"', open)(__file__);code=f.read().replace('\"'\"'\\r\\n'\"'\"', '\"'\"'\\n'\"'\"');f.close();exec(compile(code, __file__, '\"'\"'exec'\"'\"'))' bdist_wheel -d 'C:\\Users\\Mike\\AppData\\Local\\Temp\\pip-wheel-i81r625f' --python-tag cp37\n",
      "       cwd: C:\\Users\\Mike\\AppData\\Local\\Temp\\pip-install-qltpo_t0\\bitarray\\\n",
      "  Complete output (11 lines):\n",
      "  running bdist_wheel\n",
      "  running build\n",
      "  running build_py\n",
      "  creating build\n",
      "  creating build\\lib.win-amd64-3.7\n",
      "  creating build\\lib.win-amd64-3.7\\bitarray\n",
      "  copying bitarray\\test_bitarray.py -> build\\lib.win-amd64-3.7\\bitarray\n",
      "  copying bitarray\\__init__.py -> build\\lib.win-amd64-3.7\\bitarray\n",
      "  running build_ext\n",
      "  building 'bitarray._bitarray' extension\n",
      "  error: Microsoft Visual C++ 14.0 is required. Get it with \"Microsoft Visual C++ Build Tools\": https://visualstudio.microsoft.com/downloads/\n",
      "  ----------------------------------------\n",
      "  ERROR: Failed building wheel for bitarray\n",
      "    ERROR: Command errored out with exit status 1:\n",
      "     command: 'C:\\Users\\Mike\\Anaconda3\\envs\\budapest\\python.exe' -u -c 'import sys, setuptools, tokenize; sys.argv[0] = '\"'\"'C:\\\\Users\\\\Mike\\\\AppData\\\\Local\\\\Temp\\\\pip-install-qltpo_t0\\\\bitarray\\\\setup.py'\"'\"'; __file__='\"'\"'C:\\\\Users\\\\Mike\\\\AppData\\\\Local\\\\Temp\\\\pip-install-qltpo_t0\\\\bitarray\\\\setup.py'\"'\"';f=getattr(tokenize, '\"'\"'open'\"'\"', open)(__file__);code=f.read().replace('\"'\"'\\r\\n'\"'\"', '\"'\"'\\n'\"'\"');f.close();exec(compile(code, __file__, '\"'\"'exec'\"'\"'))' install --record 'C:\\Users\\Mike\\AppData\\Local\\Temp\\pip-record-ft2068lu\\install-record.txt' --single-version-externally-managed --compile\n",
      "         cwd: C:\\Users\\Mike\\AppData\\Local\\Temp\\pip-install-qltpo_t0\\bitarray\\\n",
      "    Complete output (11 lines):\n",
      "    running install\n",
      "    running build\n",
      "    running build_py\n",
      "    creating build\n",
      "    creating build\\lib.win-amd64-3.7\n",
      "    creating build\\lib.win-amd64-3.7\\bitarray\n",
      "    copying bitarray\\test_bitarray.py -> build\\lib.win-amd64-3.7\\bitarray\n",
      "    copying bitarray\\__init__.py -> build\\lib.win-amd64-3.7\\bitarray\n",
      "    running build_ext\n",
      "    building 'bitarray._bitarray' extension\n",
      "    error: Microsoft Visual C++ 14.0 is required. Get it with \"Microsoft Visual C++ Build Tools\": https://visualstudio.microsoft.com/downloads/\n",
      "    ----------------------------------------\n",
      "ERROR: Command errored out with exit status 1: 'C:\\Users\\Mike\\Anaconda3\\envs\\budapest\\python.exe' -u -c 'import sys, setuptools, tokenize; sys.argv[0] = '\"'\"'C:\\\\Users\\\\Mike\\\\AppData\\\\Local\\\\Temp\\\\pip-install-qltpo_t0\\\\bitarray\\\\setup.py'\"'\"'; __file__='\"'\"'C:\\\\Users\\\\Mike\\\\AppData\\\\Local\\\\Temp\\\\pip-install-qltpo_t0\\\\bitarray\\\\setup.py'\"'\"';f=getattr(tokenize, '\"'\"'open'\"'\"', open)(__file__);code=f.read().replace('\"'\"'\\r\\n'\"'\"', '\"'\"'\\n'\"'\"');f.close();exec(compile(code, __file__, '\"'\"'exec'\"'\"'))' install --record 'C:\\Users\\Mike\\AppData\\Local\\Temp\\pip-record-ft2068lu\\install-record.txt' --single-version-externally-managed --compile Check the logs for full command output.\n"
     ]
    },
    {
     "ename": "ModuleNotFoundError",
     "evalue": "No module named 'bitarray'",
     "output_type": "error",
     "traceback": [
      "\u001b[1;31m---------------------------------------------------------------------------\u001b[0m",
      "\u001b[1;31mModuleNotFoundError\u001b[0m                       Traceback (most recent call last)",
      "\u001b[1;32m<ipython-input-1-560878fff1e9>\u001b[0m in \u001b[0;36m<module>\u001b[1;34m\u001b[0m\n\u001b[0;32m      1\u001b[0m \u001b[0mget_ipython\u001b[0m\u001b[1;33m(\u001b[0m\u001b[1;33m)\u001b[0m\u001b[1;33m.\u001b[0m\u001b[0msystem\u001b[0m\u001b[1;33m(\u001b[0m\u001b[1;34m'pip install mmh3'\u001b[0m\u001b[1;33m)\u001b[0m\u001b[1;33m\u001b[0m\u001b[1;33m\u001b[0m\u001b[0m\n\u001b[0;32m      2\u001b[0m \u001b[0mget_ipython\u001b[0m\u001b[1;33m(\u001b[0m\u001b[1;33m)\u001b[0m\u001b[1;33m.\u001b[0m\u001b[0msystem\u001b[0m\u001b[1;33m(\u001b[0m\u001b[1;34m'pip install bitarray'\u001b[0m\u001b[1;33m)\u001b[0m\u001b[1;33m\u001b[0m\u001b[1;33m\u001b[0m\u001b[0m\n\u001b[1;32m----> 3\u001b[1;33m \u001b[1;32mfrom\u001b[0m \u001b[0mbitarray\u001b[0m \u001b[1;32mimport\u001b[0m \u001b[0mbitarray\u001b[0m\u001b[1;33m\u001b[0m\u001b[1;33m\u001b[0m\u001b[0m\n\u001b[0m\u001b[0;32m      4\u001b[0m \u001b[1;32mimport\u001b[0m \u001b[0mmmh3\u001b[0m\u001b[1;33m\u001b[0m\u001b[1;33m\u001b[0m\u001b[0m\n\u001b[0;32m      5\u001b[0m \u001b[1;32mimport\u001b[0m \u001b[0mnumpy\u001b[0m \u001b[1;32mas\u001b[0m \u001b[0mnp\u001b[0m\u001b[1;33m\u001b[0m\u001b[1;33m\u001b[0m\u001b[0m\n",
      "\u001b[1;31mModuleNotFoundError\u001b[0m: No module named 'bitarray'"
     ]
    }
   ],
   "source": [
    "!pip install mmh3\n",
    "!pip install bitarray\n",
    "from bitarray import bitarray\n",
    "import mmh3\n",
    "import numpy as np"
   ]
  },
  {
   "cell_type": "markdown",
   "metadata": {
    "colab_type": "text",
    "id": "6ZdXj6JddX8j"
   },
   "source": [
    "### Initialize filter"
   ]
  },
  {
   "cell_type": "code",
   "execution_count": 2,
   "metadata": {
    "colab": {
     "base_uri": "https://localhost:8080/",
     "height": 51
    },
    "colab_type": "code",
    "id": "1T9A3R22cwbO",
    "outputId": "5250841a-b96c-477c-f03a-633ba7e03c0b"
   },
   "outputs": [
    {
     "name": "stdout",
     "output_type": "stream",
     "text": [
      "Enter size of filter: 5\n",
      "Enter number of hash functions < 20: 2\n"
     ]
    },
    {
     "ename": "NameError",
     "evalue": "name 'bitarray' is not defined",
     "output_type": "error",
     "traceback": [
      "\u001b[1;31m---------------------------------------------------------------------------\u001b[0m",
      "\u001b[1;31mNameError\u001b[0m                                 Traceback (most recent call last)",
      "\u001b[1;32m<ipython-input-2-12066a0235aa>\u001b[0m in \u001b[0;36m<module>\u001b[1;34m\u001b[0m\n\u001b[0;32m      2\u001b[0m \u001b[0mk\u001b[0m \u001b[1;33m=\u001b[0m \u001b[0mint\u001b[0m\u001b[1;33m(\u001b[0m\u001b[0minput\u001b[0m\u001b[1;33m(\u001b[0m\u001b[1;34m\"Enter number of hash functions < 20: \"\u001b[0m \u001b[1;33m)\u001b[0m\u001b[1;33m)\u001b[0m\u001b[1;33m\u001b[0m\u001b[1;33m\u001b[0m\u001b[0m\n\u001b[0;32m      3\u001b[0m \u001b[1;33m\u001b[0m\u001b[0m\n\u001b[1;32m----> 4\u001b[1;33m \u001b[0marray\u001b[0m \u001b[1;33m=\u001b[0m \u001b[0mbitarray\u001b[0m\u001b[1;33m(\u001b[0m\u001b[0mm\u001b[0m\u001b[1;33m)\u001b[0m\u001b[1;33m\u001b[0m\u001b[1;33m\u001b[0m\u001b[0m\n\u001b[0m\u001b[0;32m      5\u001b[0m \u001b[0marray\u001b[0m\u001b[1;33m.\u001b[0m\u001b[0msetall\u001b[0m\u001b[1;33m(\u001b[0m\u001b[1;36m0\u001b[0m\u001b[1;33m)\u001b[0m\u001b[1;33m\u001b[0m\u001b[1;33m\u001b[0m\u001b[0m\n\u001b[0;32m      6\u001b[0m \u001b[1;33m\u001b[0m\u001b[0m\n",
      "\u001b[1;31mNameError\u001b[0m: name 'bitarray' is not defined"
     ]
    }
   ],
   "source": [
    "m = int(input(\"Enter size of filter: \" ))\n",
    "k = int(input(\"Enter number of hash functions < 20: \" ))\n",
    "\n",
    "array = bitarray(m)\n",
    "array.setall(0)\n",
    "\n",
    "\n",
    "hash_seeds = np.random.randint(1, 20, int(k))\n",
    "\n"
   ]
  },
  {
   "cell_type": "markdown",
   "metadata": {
    "colab_type": "text",
    "id": "-8aJG5SAiN7M"
   },
   "source": [
    "### Read input set from User and update filter"
   ]
  },
  {
   "cell_type": "code",
   "execution_count": 26,
   "metadata": {
    "colab": {
     "base_uri": "https://localhost:8080/",
     "height": 306
    },
    "colab_type": "code",
    "id": "uBRdNAFyiT3C",
    "outputId": "1b47b491-9bfa-4aeb-d252-69ee452c57c3"
   },
   "outputs": [
    {
     "name": "stdout",
     "output_type": "stream",
     "text": [
      "How many items will you insert in the set? 5\n",
      "Mike\n",
      "h0 returns 17\n",
      "h1 returns 18\n",
      "Alex\n",
      "h0 returns 16\n",
      "h1 returns 5\n",
      "Jose\n",
      "h0 returns 17\n",
      "h1 returns 11\n",
      "Daniel\n",
      "h0 returns 7\n",
      "h1 returns 12\n",
      "Aek\n",
      "h0 returns 5\n",
      "h1 returns 6\n",
      "Thanks!\n"
     ]
    }
   ],
   "source": [
    "n = int(input(\"How many items will you insert in the set? \"))\n",
    "arr = []\n",
    "for _ in range(n):\n",
    "    x = input()\n",
    "    for h in range(k):\n",
    "      temp = mmh3.hash(x,hash_seeds[h]) % m\n",
    "      print(\"h\"+ str(h) +\" returns \"+ str(temp))\n",
    "      array[temp] = 1\n",
    "       \n",
    "print(\"Thanks!\")"
   ]
  },
  {
   "cell_type": "markdown",
   "metadata": {
    "colab_type": "text",
    "id": "rROaughhly8K"
   },
   "source": [
    "### Check a new string"
   ]
  },
  {
   "cell_type": "code",
   "execution_count": 0,
   "metadata": {
    "colab": {
     "base_uri": "https://localhost:8080/",
     "height": 328
    },
    "colab_type": "code",
    "id": "lsXsExqhl2DS",
    "outputId": "27c55fc7-df9b-403e-f004-929adb7ca438"
   },
   "outputs": [
    {
     "name": "stdout",
     "output_type": "stream",
     "text": [
      "Give me a string to check or say NO to stop: Paok\n",
      "h0 returns 7\n",
      "h1 returns 6\n",
      " String might be in the set!\n",
      "Give me a string to check or say NO to stop: Pikatchu\n",
      "h0 returns 13\n",
      "h1 returns 7\n",
      " String is not in the set!\n",
      "Give me a string to check or say NO to stop: Rick\n",
      "h0 returns 18\n",
      "h1 returns 1\n",
      " String is not in the set!\n",
      "Give me a string to check or say NO to stop: Alex\n",
      "h0 returns 16\n",
      "h1 returns 5\n",
      " String might be in the set!\n"
     ]
    }
   ],
   "source": [
    "string = \"Yes\"\n",
    "while string != \"NO\":\n",
    "  string = input(\"Give me a string to check or say NO to stop: \")\n",
    "  if string == \"NO\":\n",
    "    break\n",
    "  flag = 0\n",
    "  for h in range(k):\n",
    "      temp = mmh3.hash(string,hash_seeds[h]) % m\n",
    "      print(\"h\"+ str(h) +\" returns \"+ str(temp))\n",
    "      if array[temp] == 0 :\n",
    "        flag = 1\n",
    "  if flag == 1 :\n",
    "    print(\" String is not in the set!\")\n",
    "  else:\n",
    "    print(\" String might be in the set!\")\n"
   ]
  }
 ],
 "metadata": {
  "colab": {
   "name": "Untitled0.ipynb",
   "provenance": []
  },
  "kernelspec": {
   "display_name": "Python 3",
   "language": "python",
   "name": "python3"
  },
  "language_info": {
   "codemirror_mode": {
    "name": "ipython",
    "version": 3
   },
   "file_extension": ".py",
   "mimetype": "text/x-python",
   "name": "python",
   "nbconvert_exporter": "python",
   "pygments_lexer": "ipython3",
   "version": "3.7.4"
  }
 },
 "nbformat": 4,
 "nbformat_minor": 1
}
