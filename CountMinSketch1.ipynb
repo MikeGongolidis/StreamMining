{
  "nbformat": 4,
  "nbformat_minor": 0,
  "metadata": {
    "colab": {
      "name": "CountMinSketch.ipynb",
      "provenance": [],
      "collapsed_sections": []
    },
    "kernelspec": {
      "name": "python3",
      "display_name": "Python 3"
    }
  },
  "cells": [
    {
      "cell_type": "code",
      "metadata": {
        "id": "Ndb0RhXim4Tq",
        "colab_type": "code",
        "colab": {
          "base_uri": "https://localhost:8080/",
          "height": 170
        },
        "outputId": "1c8283cd-0f53-443d-d8cf-c11336a543a7"
      },
      "source": [
        "!pip install mmh3"
      ],
      "execution_count": 6,
      "outputs": [
        {
          "output_type": "stream",
          "text": [
            "Collecting mmh3\n",
            "  Downloading https://files.pythonhosted.org/packages/fa/7e/3ddcab0a9fcea034212c02eb411433db9330e34d626360b97333368b4052/mmh3-2.5.1.tar.gz\n",
            "Building wheels for collected packages: mmh3\n",
            "  Building wheel for mmh3 (setup.py) ... \u001b[?25l\u001b[?25hdone\n",
            "  Created wheel for mmh3: filename=mmh3-2.5.1-cp36-cp36m-linux_x86_64.whl size=37870 sha256=af2aa3cafc8e3a69f18a3b65a55d00d590494474ede1de64372cf9b13d92560f\n",
            "  Stored in directory: /root/.cache/pip/wheels/38/b4/ea/6e4e321c625d3320c0c496bf4088371546d8fce5f1dd71b219\n",
            "Successfully built mmh3\n",
            "Installing collected packages: mmh3\n",
            "Successfully installed mmh3-2.5.1\n"
          ],
          "name": "stdout"
        }
      ]
    },
    {
      "cell_type": "code",
      "metadata": {
        "id": "PVcN6UFCoMkq",
        "colab_type": "code",
        "colab": {}
      },
      "source": [
        "import numpy as np\n",
        "import pandas as pd\n",
        "import mmh3"
      ],
      "execution_count": 0,
      "outputs": []
    },
    {
      "cell_type": "markdown",
      "metadata": {
        "id": "EEwT4OzdrEHi",
        "colab_type": "text"
      },
      "source": [
        "Initialize width of table:\n",
        "\n",
        "\n"
      ]
    },
    {
      "cell_type": "code",
      "metadata": {
        "id": "HaYeE_LioTDi",
        "colab_type": "code",
        "colab": {
          "base_uri": "https://localhost:8080/",
          "height": 34
        },
        "outputId": "2e83c952-2425-4393-f47c-b0193baecc5d"
      },
      "source": [
        "width = int(input(\"Enter width of table:\" ))"
      ],
      "execution_count": 30,
      "outputs": [
        {
          "output_type": "stream",
          "text": [
            "Enter width of table:10\n"
          ],
          "name": "stdout"
        }
      ]
    },
    {
      "cell_type": "markdown",
      "metadata": {
        "id": "qkSXGnNisFec",
        "colab_type": "text"
      },
      "source": [
        "Initialize hash functions:\n"
      ]
    },
    {
      "cell_type": "code",
      "metadata": {
        "id": "89tNfPmlsTWy",
        "colab_type": "code",
        "colab": {
          "base_uri": "https://localhost:8080/",
          "height": 34
        },
        "outputId": "738af1d8-45ae-4708-e10a-c12a34767367"
      },
      "source": [
        "nhash = int(input(\"Enter number of hash functions < 1000: \"))\n",
        "hash_seeds = np.random.randint(1, 1000, int(nhash))"
      ],
      "execution_count": 32,
      "outputs": [
        {
          "output_type": "stream",
          "text": [
            "Enter number of hash functions < 1000: 20\n"
          ],
          "name": "stdout"
        }
      ]
    },
    {
      "cell_type": "markdown",
      "metadata": {
        "id": "u4Tf8LI7s6Qy",
        "colab_type": "text"
      },
      "source": [
        "Input stream: "
      ]
    },
    {
      "cell_type": "code",
      "metadata": {
        "id": "v5RfZi0GtAza",
        "colab_type": "code",
        "colab": {
          "base_uri": "https://localhost:8080/",
          "height": 51
        },
        "outputId": "c2173e3d-eb7b-458a-974d-ba9064818691"
      },
      "source": [
        "stream = input(\"Gime stream u want to test \")\n",
        "unique_items = len(set(stream))\n",
        "unique_items"
      ],
      "execution_count": 33,
      "outputs": [
        {
          "output_type": "stream",
          "text": [
            "Gime stream u want to test adhjakvcbyajkncdoyqbkcoixqjcbhhaasdfjahhhdah\n"
          ],
          "name": "stdout"
        },
        {
          "output_type": "execute_result",
          "data": {
            "text/plain": [
              "16"
            ]
          },
          "metadata": {
            "tags": []
          },
          "execution_count": 33
        }
      ]
    },
    {
      "cell_type": "markdown",
      "metadata": {
        "id": "8099hUxetW7a",
        "colab_type": "text"
      },
      "source": [
        "Character to test: "
      ]
    },
    {
      "cell_type": "code",
      "metadata": {
        "id": "HWrOGUA7taWi",
        "colab_type": "code",
        "colab": {
          "base_uri": "https://localhost:8080/",
          "height": 34
        },
        "outputId": "b8afdb54-f9c4-4f66-b742-8902a6cd47b6"
      },
      "source": [
        "character = input(\"Gime character u want to test:  \")"
      ],
      "execution_count": 34,
      "outputs": [
        {
          "output_type": "stream",
          "text": [
            "Gime character u want to test:  h\n"
          ],
          "name": "stdout"
        }
      ]
    },
    {
      "cell_type": "markdown",
      "metadata": {
        "id": "UQHmyQX_tfoT",
        "colab_type": "text"
      },
      "source": [
        "Actual algorithm starts here"
      ]
    },
    {
      "cell_type": "code",
      "metadata": {
        "id": "4wJ2ymKnt9Mq",
        "colab_type": "code",
        "colab": {
          "base_uri": "https://localhost:8080/",
          "height": 374
        },
        "outputId": "2c7f6c3a-f539-4c25-e403-1a3af5eb4d87"
      },
      "source": [
        "table = pd.DataFrame(np.zeros((nhash, width)))\n",
        "  \n",
        "\n",
        "for ch in stream:\n",
        "  for h in range(nhash):\n",
        "    temp = mmh3.hash(ch,hash_seeds[h]) % width\n",
        "    table.loc[h,temp] += + 1 \n",
        "    \n",
        "print(table)"
      ],
      "execution_count": 35,
      "outputs": [
        {
          "output_type": "stream",
          "text": [
            "       0     1     2     3     4     5     6     7     8     9\n",
            "0    5.0   0.0   0.0   0.0   3.0  17.0   0.0   9.0   6.0   4.0\n",
            "1    0.0   6.0   7.0   4.0   8.0   0.0   1.0   3.0   7.0   8.0\n",
            "2    4.0  13.0   0.0   2.0   0.0   3.0   2.0   1.0  10.0   9.0\n",
            "3    9.0   2.0   7.0   3.0   4.0   1.0   1.0  12.0   0.0   5.0\n",
            "4    6.0   8.0   8.0   6.0   0.0   4.0   1.0  10.0   1.0   0.0\n",
            "5    0.0   7.0   0.0   3.0   0.0   7.0   0.0   0.0   6.0  21.0\n",
            "6    2.0   8.0  12.0   4.0   4.0   7.0   1.0   0.0   3.0   3.0\n",
            "7    0.0   1.0  10.0   2.0   5.0   3.0   4.0   9.0   0.0  10.0\n",
            "8    9.0   1.0   1.0   4.0  14.0   6.0   5.0   3.0   1.0   0.0\n",
            "9    1.0  12.0   0.0   2.0   7.0   7.0   6.0   0.0   6.0   3.0\n",
            "10   3.0   8.0   7.0   7.0   0.0   4.0   6.0   3.0   6.0   0.0\n",
            "11  12.0   5.0   0.0   4.0   4.0   4.0   5.0   3.0   7.0   0.0\n",
            "12   6.0   3.0   8.0   2.0   7.0   1.0   0.0   5.0   5.0   7.0\n",
            "13   1.0  11.0   1.0   0.0   3.0   4.0   2.0   3.0   3.0  16.0\n",
            "14  12.0   4.0   0.0   1.0   9.0   2.0   1.0   0.0   7.0   8.0\n",
            "15   0.0   0.0  13.0   3.0  11.0   4.0   1.0   0.0   0.0  12.0\n",
            "16   0.0   4.0   2.0  10.0   2.0   7.0  11.0   0.0   6.0   2.0\n",
            "17   7.0   2.0   4.0   2.0   0.0   5.0  11.0   5.0   4.0   4.0\n",
            "18   4.0  11.0   1.0  14.0   0.0   5.0   1.0   4.0   0.0   4.0\n",
            "19   0.0  12.0   5.0   4.0   0.0   8.0   2.0   0.0   2.0  11.0\n"
          ],
          "name": "stdout"
        }
      ]
    },
    {
      "cell_type": "markdown",
      "metadata": {
        "id": "WPon3iHw1e6Z",
        "colab_type": "text"
      },
      "source": [
        "Now for selected character we can return its frequency\n"
      ]
    },
    {
      "cell_type": "code",
      "metadata": {
        "id": "hLIbIpxPte6q",
        "colab_type": "code",
        "colab": {
          "base_uri": "https://localhost:8080/",
          "height": 34
        },
        "outputId": "845631d4-dab7-459c-9079-f69a0e71736a"
      },
      "source": [
        "freq = 1000\n",
        "for h in range(nhash):\n",
        "  freq = min(   table.loc[h,mmh3.hash(character,hash_seeds[h])%width] , freq ) \n",
        "  \n",
        "print(freq)"
      ],
      "execution_count": 36,
      "outputs": [
        {
          "output_type": "stream",
          "text": [
            "7.0\n"
          ],
          "name": "stdout"
        }
      ]
    }
  ]
}