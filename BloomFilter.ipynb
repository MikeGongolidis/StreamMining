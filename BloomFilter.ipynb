{
  "nbformat": 4,
  "nbformat_minor": 0,
  "metadata": {
    "colab": {
      "name": "Untitled0.ipynb",
      "provenance": []
    },
    "kernelspec": {
      "name": "python3",
      "display_name": "Python 3"
    }
  },
  "cells": [
    {
      "cell_type": "markdown",
      "metadata": {
        "id": "qUVv7silZVa1",
        "colab_type": "text"
      },
      "source": [
        "# Bloom Filter\n",
        "\n",
        "Its a Bit Vector with *m* bits, *k* hash functions and *n* elements expected to be inserted in the filter.\n",
        "\n",
        "### What can it do? \n",
        "\n",
        "It can tell us whether an element **is not** in the specific set or it **may be** in the set. \n",
        "\n",
        "### How to build it?\n",
        "\n",
        "Variables to decide the filter : *m,k,n* \n",
        "\n",
        "With larger *m* we achieve less false positive rate but commit to use more memory.\n",
        "\n",
        "With larger *k* we achieve less false positive rate but the filter gets slower.\n",
        "\n",
        "Given *n* and *m* we can calculate the optimal value for *k* by : *(m/n)ln2*\n",
        "\n",
        "### Algorithm\n",
        "\n",
        "The user can create a set of strings and test if a new string is in the set.\n",
        "\n",
        "*Input* : Set of strings, a new string.\n",
        "\n",
        "*Output* : If the string is not, or may be in the set.\n",
        "\n",
        "\n",
        "\n"
      ]
    },
    {
      "cell_type": "markdown",
      "metadata": {
        "id": "BeKoeMVOekJm",
        "colab_type": "text"
      },
      "source": [
        "### Libraries"
      ]
    },
    {
      "cell_type": "code",
      "metadata": {
        "id": "zSXh6Eu4e3tT",
        "colab_type": "code",
        "colab": {
          "base_uri": "https://localhost:8080/",
          "height": 51
        },
        "outputId": "44b5b727-a803-4c6f-b02c-bd395f56ad3f"
      },
      "source": [
        "!pip install mmh3\n",
        "!pip install bitarray\n",
        "from bitarray import bitarray\n",
        "import mmh3\n",
        "import numpy as np"
      ],
      "execution_count": 8,
      "outputs": [
        {
          "output_type": "stream",
          "text": [
            "Requirement already satisfied: mmh3 in /usr/local/lib/python3.6/dist-packages (2.5.1)\n",
            "Requirement already satisfied: bitarray in /usr/local/lib/python3.6/dist-packages (1.0.1)\n"
          ],
          "name": "stdout"
        }
      ]
    },
    {
      "cell_type": "markdown",
      "metadata": {
        "id": "6ZdXj6JddX8j",
        "colab_type": "text"
      },
      "source": [
        "### Initialize filter"
      ]
    },
    {
      "cell_type": "code",
      "metadata": {
        "id": "1T9A3R22cwbO",
        "colab_type": "code",
        "colab": {
          "base_uri": "https://localhost:8080/",
          "height": 51
        },
        "outputId": "5250841a-b96c-477c-f03a-633ba7e03c0b"
      },
      "source": [
        "m = int(input(\"Enter size of filter: \" ))\n",
        "k = int(input(\"Enter number of hash functions < 20: \" ))\n",
        "\n",
        "array = bitarray(m)\n",
        "array.setall(0)\n",
        "\n",
        "\n",
        "hash_seeds = np.random.randint(1, 20, int(k))\n",
        "\n"
      ],
      "execution_count": 25,
      "outputs": [
        {
          "output_type": "stream",
          "text": [
            "Enter size of filter: 20\n",
            "Enter number of hash functions < 20: 2\n"
          ],
          "name": "stdout"
        }
      ]
    },
    {
      "cell_type": "markdown",
      "metadata": {
        "id": "-8aJG5SAiN7M",
        "colab_type": "text"
      },
      "source": [
        "### Read input set from User and update filter"
      ]
    },
    {
      "cell_type": "code",
      "metadata": {
        "id": "uBRdNAFyiT3C",
        "colab_type": "code",
        "colab": {
          "base_uri": "https://localhost:8080/",
          "height": 306
        },
        "outputId": "1b47b491-9bfa-4aeb-d252-69ee452c57c3"
      },
      "source": [
        "n = int(input(\"How many items will you insert in the set? \"))\n",
        "arr = []\n",
        "for _ in range(n):\n",
        "    x = input()\n",
        "    for h in range(k):\n",
        "      temp = mmh3.hash(x,hash_seeds[h]) % m\n",
        "      print(\"h\"+ str(h) +\" returns \"+ str(temp))\n",
        "      array[temp] = 1\n",
        "       \n",
        "print(\"Thanks!\")"
      ],
      "execution_count": 26,
      "outputs": [
        {
          "output_type": "stream",
          "text": [
            "How many items will you insert in the set? 5\n",
            "Mike\n",
            "h0 returns 17\n",
            "h1 returns 18\n",
            "Alex\n",
            "h0 returns 16\n",
            "h1 returns 5\n",
            "Jose\n",
            "h0 returns 17\n",
            "h1 returns 11\n",
            "Daniel\n",
            "h0 returns 7\n",
            "h1 returns 12\n",
            "Aek\n",
            "h0 returns 5\n",
            "h1 returns 6\n",
            "Thanks!\n"
          ],
          "name": "stdout"
        }
      ]
    },
    {
      "cell_type": "markdown",
      "metadata": {
        "id": "rROaughhly8K",
        "colab_type": "text"
      },
      "source": [
        "### Check a new string"
      ]
    },
    {
      "cell_type": "code",
      "metadata": {
        "id": "lsXsExqhl2DS",
        "colab_type": "code",
        "colab": {
          "base_uri": "https://localhost:8080/",
          "height": 328
        },
        "outputId": "27c55fc7-df9b-403e-f004-929adb7ca438"
      },
      "source": [
        "string = \"Yes\"\n",
        "while string != \"NO\":\n",
        "  string = input(\"Give me a string to check or say NO to stop: \")\n",
        "  if string == \"NO\":\n",
        "    break\n",
        "  flag = 0\n",
        "  for h in range(k):\n",
        "      temp = mmh3.hash(string,hash_seeds[h]) % m\n",
        "      print(\"h\"+ str(h) +\" returns \"+ str(temp))\n",
        "      if array[temp] == 0 :\n",
        "        flag = 1\n",
        "  if flag == 1 :\n",
        "    print(\" String is not in the set!\")\n",
        "  else:\n",
        "    print(\" String might be in the set!\")\n"
      ],
      "execution_count": 0,
      "outputs": [
        {
          "output_type": "stream",
          "text": [
            "Give me a string to check or say NO to stop: Paok\n",
            "h0 returns 7\n",
            "h1 returns 6\n",
            " String might be in the set!\n",
            "Give me a string to check or say NO to stop: Pikatchu\n",
            "h0 returns 13\n",
            "h1 returns 7\n",
            " String is not in the set!\n",
            "Give me a string to check or say NO to stop: Rick\n",
            "h0 returns 18\n",
            "h1 returns 1\n",
            " String is not in the set!\n",
            "Give me a string to check or say NO to stop: Alex\n",
            "h0 returns 16\n",
            "h1 returns 5\n",
            " String might be in the set!\n"
          ],
          "name": "stdout"
        }
      ]
    }
  ]
}