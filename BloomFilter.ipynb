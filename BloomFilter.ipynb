{
 "cells": [
  {
   "cell_type": "markdown",
   "metadata": {
    "colab_type": "text",
    "id": "qUVv7silZVa1"
   },
   "source": [
    "# Bloom Filter\n",
    "\n",
    "Its a Bit Vector with *m* bits, *k* hash functions and *n* elements expected to be inserted in the filter.\n",
    "\n",
    "### What can it do? \n",
    "\n",
    "It can tell us whether an element **is not** in the specific set or it **may be** in the set. \n",
    "\n",
    "### How to build it?\n",
    "\n",
    "Variables to decide the filter : *m,k,n* \n",
    "\n",
    "With larger *m* we achieve less false positive rate but commit to use more memory.\n",
    "\n",
    "With larger *k* we achieve less false positive rate but the filter gets slower.\n",
    "\n",
    "Given *n* and *m* we can calculate the optimal value for *k* by : *(m/n)ln2*\n",
    "\n",
    "### Algorithm\n",
    "\n",
    "The user can create a set of strings and test if a new string is in the set.\n",
    "\n",
    "*Input* : Set of strings, a new string.\n",
    "\n",
    "*Output* : If the string is not, or may be in the set.\n",
    "\n",
    "\n",
    "\n"
   ]
  },
  {
   "cell_type": "markdown",
   "metadata": {
    "colab_type": "text",
    "id": "BeKoeMVOekJm"
   },
   "source": [
    "### Libraries"
   ]
  },
  {
   "cell_type": "code",
   "execution_count": 1,
   "metadata": {
    "colab": {
     "base_uri": "https://localhost:8080/",
     "height": 51
    },
    "colab_type": "code",
    "id": "zSXh6Eu4e3tT",
    "outputId": "44b5b727-a803-4c6f-b02c-bd395f56ad3f"
   },
   "outputs": [
    {
     "name": "stdout",
     "output_type": "stream",
     "text": [
      "Requirement already satisfied: mmh3 in c:\\users\\mike\\anaconda3\\envs\\budapest\\lib\\site-packages (2.5.1)\n",
      "Requirement already satisfied: bitarray in c:\\users\\mike\\anaconda3\\envs\\budapest\\lib\\site-packages (1.0.1)\n"
     ]
    }
   ],
   "source": [
    "!pip install mmh3\n",
    "!pip install bitarray\n",
    "from bitarray import bitarray\n",
    "import mmh3\n",
    "import numpy as np"
   ]
  },
  {
   "cell_type": "markdown",
   "metadata": {
    "colab_type": "text",
    "id": "6ZdXj6JddX8j"
   },
   "source": [
    "### Initialize filter"
   ]
  },
  {
   "cell_type": "code",
   "execution_count": 2,
   "metadata": {
    "colab": {
     "base_uri": "https://localhost:8080/",
     "height": 51
    },
    "colab_type": "code",
    "id": "1T9A3R22cwbO",
    "outputId": "5250841a-b96c-477c-f03a-633ba7e03c0b"
   },
   "outputs": [
    {
     "name": "stdout",
     "output_type": "stream",
     "text": [
      "Enter size of filter: 5\n",
      "Enter number of hash functions < 20: 2\n"
     ]
    }
   ],
   "source": [
    "m = int(input(\"Enter size of filter: \" ))\n",
    "k = int(input(\"Enter number of hash functions < 20: \" ))\n",
    "\n",
    "array = bitarray(m)\n",
    "array.setall(0)\n",
    "\n",
    "\n",
    "hash_seeds = np.random.randint(1, 20, int(k))\n",
    "\n"
   ]
  },
  {
   "cell_type": "markdown",
   "metadata": {
    "colab_type": "text",
    "id": "-8aJG5SAiN7M"
   },
   "source": [
    "### Read input set from User and update filter"
   ]
  },
  {
   "cell_type": "code",
   "execution_count": 3,
   "metadata": {
    "colab": {
     "base_uri": "https://localhost:8080/",
     "height": 306
    },
    "colab_type": "code",
    "id": "uBRdNAFyiT3C",
    "outputId": "1b47b491-9bfa-4aeb-d252-69ee452c57c3"
   },
   "outputs": [
    {
     "name": "stdout",
     "output_type": "stream",
     "text": [
      "How many items will you insert in the set? 2\n",
      "aek\n",
      "h0 returns 0\n",
      "h1 returns 0\n",
      "paok\n",
      "h0 returns 1\n",
      "h1 returns 4\n",
      "Thanks!\n"
     ]
    }
   ],
   "source": [
    "n = int(input(\"How many items will you insert in the set? \"))\n",
    "arr = []\n",
    "for _ in range(n):\n",
    "    x = input()\n",
    "    for h in range(k):\n",
    "      temp = mmh3.hash(x,hash_seeds[h]) % m\n",
    "      print(\"h\"+ str(h) +\" returns \"+ str(temp))\n",
    "      array[temp] = 1\n",
    "       \n",
    "print(\"Thanks!\")"
   ]
  },
  {
   "cell_type": "markdown",
   "metadata": {
    "colab_type": "text",
    "id": "rROaughhly8K"
   },
   "source": [
    "### Check a new string"
   ]
  },
  {
   "cell_type": "code",
   "execution_count": 4,
   "metadata": {
    "colab": {
     "base_uri": "https://localhost:8080/",
     "height": 328
    },
    "colab_type": "code",
    "id": "lsXsExqhl2DS",
    "outputId": "27c55fc7-df9b-403e-f004-929adb7ca438"
   },
   "outputs": [
    {
     "name": "stdout",
     "output_type": "stream",
     "text": [
      "Give me a string to check or say NO to stop: aek\n",
      "h0 returns 0\n",
      "h1 returns 0\n",
      " String might be in the set!\n",
      "Give me a string to check or say NO to stop: pika\n",
      "h0 returns 1\n",
      "h1 returns 0\n",
      " String might be in the set!\n",
      "Give me a string to check or say NO to stop: poke\n",
      "h0 returns 4\n",
      "h1 returns 1\n",
      " String might be in the set!\n",
      "Give me a string to check or say NO to stop: tesla\n",
      "h0 returns 1\n",
      "h1 returns 3\n",
      " String is not in the set!\n",
      "Give me a string to check or say NO to stop: NO\n"
     ]
    }
   ],
   "source": [
    "string = \"Yes\"\n",
    "while string != \"NO\":\n",
    "  string = input(\"Give me a string to check or say NO to stop: \")\n",
    "  if string == \"NO\":\n",
    "    break\n",
    "  flag = 0\n",
    "  for h in range(k):\n",
    "      temp = mmh3.hash(string,hash_seeds[h]) % m\n",
    "      print(\"h\"+ str(h) +\" returns \"+ str(temp))\n",
    "      if array[temp] == 0 :\n",
    "        flag = 1\n",
    "  if flag == 1 :\n",
    "    print(\" String is not in the set!\")\n",
    "  else:\n",
    "    print(\" String might be in the set!\")\n"
   ]
  },
  {
   "cell_type": "code",
   "execution_count": null,
   "metadata": {},
   "outputs": [],
   "source": []
  }
 ],
 "metadata": {
  "colab": {
   "name": "Untitled0.ipynb",
   "provenance": []
  },
  "kernelspec": {
   "display_name": "Python 3",
   "language": "python",
   "name": "python3"
  },
  "language_info": {
   "codemirror_mode": {
    "name": "ipython",
    "version": 3
   },
   "file_extension": ".py",
   "mimetype": "text/x-python",
   "name": "python",
   "nbconvert_exporter": "python",
   "pygments_lexer": "ipython3",
   "version": "3.7.4"
  }
 },
 "nbformat": 4,
 "nbformat_minor": 1
}
